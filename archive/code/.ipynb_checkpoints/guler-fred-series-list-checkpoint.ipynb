{
 "cells": [
  {
   "cell_type": "code",
   "execution_count": 2,
   "id": "c5ee5755-769e-4d59-a1f1-5e485715d8ae",
   "metadata": {},
   "outputs": [],
   "source": [
    "import pandas as pd\n",
    "import numpy as np\n",
    "import requests\n",
    "import json\n",
    "import os\n",
    "import time\n",
    "import fred_msa"
   ]
  },
  {
   "cell_type": "code",
   "execution_count": 3,
   "id": "efcde65f-ba61-4c69-aeb9-16a576b1d695",
   "metadata": {},
   "outputs": [],
   "source": [
    "api_key = 'a37b50cd27afbc3ce23a81ddc5541dec'\n",
    "endpoint = 'https://api.stlouisfed.org/fred/series/categories'"
   ]
  },
  {
   "cell_type": "code",
   "execution_count": 5,
   "id": "ef282253-e6ea-4998-bf06-5a0a0633a220",
   "metadata": {},
   "outputs": [],
   "source": [
    "state_ids = fred_msa.get_state_ids(api_key)"
   ]
  },
  {
   "cell_type": "code",
   "execution_count": 6,
   "id": "bffff45e-cc03-4fb7-bf0f-fc9fdd23a7d0",
   "metadata": {},
   "outputs": [],
   "source": [
    "state_msas = {}\n",
    "for state, state_id in state_ids.items():\n",
    "    state_msas[state] = fred_msa.get_msa_cats(api_key, state_id)\n",
    "    time.sleep(5)"
   ]
  },
  {
   "cell_type": "code",
   "execution_count": 7,
   "id": "8d25240d-7680-40e8-9923-42b50fa1f95f",
   "metadata": {},
   "outputs": [],
   "source": [
    "series = pd.DataFrame()"
   ]
  },
  {
   "cell_type": "code",
   "execution_count": 10,
   "id": "df1dea30-ae8a-465b-bb11-bdac76eafbfa",
   "metadata": {},
   "outputs": [],
   "source": [
    "for state, msas in state_msas.items():\n",
    "    for msa, msa_id in msas.items():\n",
    "        msa_series = fred_msa.get_msa_series_list(msa_id, api_key)\n",
    "        msa_series['state'] = state\n",
    "        msa_series['msa'] = msa\n",
    "        \n",
    "        series = series.append(msa_series)\n",
    "        time.sleep(3)"
   ]
  },
  {
   "cell_type": "code",
   "execution_count": 12,
   "id": "5019b654-2871-43f2-9572-34f70619a11d",
   "metadata": {},
   "outputs": [],
   "source": [
    "series.to_csv('..\\\\fred-data\\msa_series.csv', index=False)"
   ]
  },
  {
   "cell_type": "code",
   "execution_count": null,
   "id": "c64ba5af-fb2a-44fe-bee0-c15f60ad886f",
   "metadata": {},
   "outputs": [],
   "source": []
  }
 ],
 "metadata": {
  "kernelspec": {
   "display_name": "Python 3",
   "language": "python",
   "name": "python3"
  },
  "language_info": {
   "codemirror_mode": {
    "name": "ipython",
    "version": 3
   },
   "file_extension": ".py",
   "mimetype": "text/x-python",
   "name": "python",
   "nbconvert_exporter": "python",
   "pygments_lexer": "ipython3",
   "version": "3.8.8"
  }
 },
 "nbformat": 4,
 "nbformat_minor": 5
}
