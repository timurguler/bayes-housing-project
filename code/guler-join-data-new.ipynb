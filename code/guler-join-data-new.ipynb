{
 "cells": [
  {
   "cell_type": "code",
   "execution_count": 2,
   "id": "b3ded4e2-699b-40ad-b143-78b2eb089b00",
   "metadata": {},
   "outputs": [],
   "source": [
    "import pandas as pd\n",
    "import numpy as np\n",
    "import requests\n",
    "import json\n",
    "import os\n",
    "import time\n",
    "import fred_msa\n",
    "from datetime import date\n",
    "\n",
    "pd.set_option('display.max_rows', 100)"
   ]
  },
  {
   "cell_type": "code",
   "execution_count": 3,
   "id": "fe13eef7-6b9f-42fa-9dd1-1d0d75973b59",
   "metadata": {},
   "outputs": [],
   "source": [
    "csvs_to_ignore = ['new-series-to-use.csv']"
   ]
  },
  {
   "cell_type": "code",
   "execution_count": 10,
   "id": "fa85781d-9fc8-4856-b72f-a197c531788a",
   "metadata": {},
   "outputs": [],
   "source": [
    "filepath = '..\\\\fred-data-new'\n",
    "data_files = set(os.listdir(filepath)).difference(set(csvs_to_ignore))"
   ]
  },
  {
   "cell_type": "code",
   "execution_count": 38,
   "id": "3d39c4da-804e-4c1f-881c-994a7fd29188",
   "metadata": {},
   "outputs": [],
   "source": [
    "all_data = {}\n",
    "for file in data_files:\n",
    "    data = pd.read_csv(os.path.join(filepath, file))\n",
    "    frequency = data.frequency[0]\n",
    "    \n",
    "    data.date = pd.to_datetime(data.date)\n",
    "    data['year'] = [d.year for d in data.date]\n",
    "    if frequency == 'Monthly':\n",
    "        data['month'] = [d.month for d in data.date]\n",
    "    all_data[file.replace('.csv', '')] = {'data' : data.drop(columns=['msa', 'title', 'id', 'frequency', 'seasonal_adjustment', 'date']), 'frequency' : data.frequency[0]}"
   ]
  },
  {
   "cell_type": "code",
   "execution_count": 39,
   "id": "f627dcc7-0ea2-4512-9b39-741da9a7fa44",
   "metadata": {},
   "outputs": [],
   "source": [
    "dataset = all_data['Housing Inventory - Median Listing Price']['data'][['year', 'month', 'city', 'state', 'Housing Inventory: Median Listing Price']]"
   ]
  },
  {
   "cell_type": "code",
   "execution_count": 40,
   "id": "758bd634-8254-41cd-954b-065dacc2c2b5",
   "metadata": {},
   "outputs": [],
   "source": [
    "for k, v in all_data.items():\n",
    "    if k != 'Housing Inventory - Median Listing Price':\n",
    "        if v['frequency'] == 'Monthly':\n",
    "            dataset = pd.merge(dataset, v['data'], how = 'left', on = ['year', 'month', 'city', 'state'], validate = 'one_to_one')\n",
    "        else:\n",
    "            dataset = pd.merge(dataset, v['data'], how = 'left', on = ['year', 'city', 'state'], validate = 'many_to_one')"
   ]
  },
  {
   "cell_type": "code",
   "execution_count": 41,
   "id": "722264f2-d52d-4c09-bf85-cf4431a13ead",
   "metadata": {},
   "outputs": [],
   "source": [
    "obj_cols = ['city', 'state']\n",
    "\n",
    "for col in dataset.columns:\n",
    "    if col not in obj_cols:\n",
    "        try:\n",
    "            dataset[col] = dataset[col].astype('float')\n",
    "        except:\n",
    "            dataset = dataset.drop(columns=[col])"
   ]
  },
  {
   "cell_type": "code",
   "execution_count": 43,
   "id": "68c402d8-af0e-4761-91a7-cde89c6e79f7",
   "metadata": {},
   "outputs": [],
   "source": [
    "for col in dataset.columns:\n",
    "    if 'Employees' in col:\n",
    "        dataset[col] = dataset[col]/dataset['Resident Population']"
   ]
  },
  {
   "cell_type": "code",
   "execution_count": 44,
   "id": "2a4e9012-68fb-4f64-a48c-9d47a16da895",
   "metadata": {},
   "outputs": [],
   "source": [
    "dataset.to_csv(os.path.join(filepath, 'all-data.csv'), index=False)"
   ]
  },
  {
   "cell_type": "code",
   "execution_count": null,
   "id": "c6985f7e-2268-4e94-9dda-d1cdc460e2f8",
   "metadata": {},
   "outputs": [],
   "source": []
  }
 ],
 "metadata": {
  "kernelspec": {
   "display_name": "Python 3",
   "language": "python",
   "name": "python3"
  },
  "language_info": {
   "codemirror_mode": {
    "name": "ipython",
    "version": 3
   },
   "file_extension": ".py",
   "mimetype": "text/x-python",
   "name": "python",
   "nbconvert_exporter": "python",
   "pygments_lexer": "ipython3",
   "version": "3.8.8"
  }
 },
 "nbformat": 4,
 "nbformat_minor": 5
}
