{
 "cells": [
  {
   "cell_type": "markdown",
   "id": "4b735929-76e6-4d85-8f90-fc900377d5b4",
   "metadata": {},
   "source": [
    "### Get FRED Data by MSA"
   ]
  },
  {
   "cell_type": "code",
   "execution_count": 1,
   "id": "a46ecb8a-6c66-46f5-b31c-a221eb2d24b6",
   "metadata": {},
   "outputs": [],
   "source": [
    "import pandas as pd\n",
    "import numpy as np\n",
    "import os\n",
    "import requests\n",
    "import json\n",
    "import time"
   ]
  },
  {
   "cell_type": "markdown",
   "id": "6051f184-f5ea-4e38-8852-61d50ded2b8f",
   "metadata": {},
   "source": [
    "Set up API Key"
   ]
  },
  {
   "cell_type": "code",
   "execution_count": 2,
   "id": "330473c6-8fb4-4106-94c3-16970337e141",
   "metadata": {},
   "outputs": [],
   "source": [
    "api_key = 'a37b50cd27afbc3ce23a81ddc5541dec'"
   ]
  },
  {
   "cell_type": "markdown",
   "id": "ba187580-a339-4d06-b18e-88438b60ffaf",
   "metadata": {},
   "source": [
    "Bring in List of Series"
   ]
  },
  {
   "cell_type": "code",
   "execution_count": 3,
   "id": "14ac6bbe-031e-43ef-b99b-071d34ab45af",
   "metadata": {},
   "outputs": [],
   "source": [
    "series = pd.read_csv('msa_series.csv')"
   ]
  },
  {
   "cell_type": "code",
   "execution_count": 4,
   "id": "9bde37f6-807c-4456-bbe9-04f5e5bd7903",
   "metadata": {},
   "outputs": [],
   "source": [
    "keyword = 'Per Capita Personal Income'\n",
    "reg_keyword = r'^Per Capita Personal Income'"
   ]
  },
  {
   "cell_type": "code",
   "execution_count": 5,
   "id": "e3a027a6-f832-475d-b957-134fdd5956e1",
   "metadata": {},
   "outputs": [],
   "source": [
    "income_series = series[series.title.str.match(reg_keyword)==True].reset_index(drop=True)"
   ]
  },
  {
   "cell_type": "code",
   "execution_count": 6,
   "id": "74c22947-3df7-469a-805e-06610fb0b7bf",
   "metadata": {},
   "outputs": [
    {
     "data": {
      "text/html": [
       "<div>\n",
       "<style scoped>\n",
       "    .dataframe tbody tr th:only-of-type {\n",
       "        vertical-align: middle;\n",
       "    }\n",
       "\n",
       "    .dataframe tbody tr th {\n",
       "        vertical-align: top;\n",
       "    }\n",
       "\n",
       "    .dataframe thead th {\n",
       "        text-align: right;\n",
       "    }\n",
       "</style>\n",
       "<table border=\"1\" class=\"dataframe\">\n",
       "  <thead>\n",
       "    <tr style=\"text-align: right;\">\n",
       "      <th></th>\n",
       "      <th>id</th>\n",
       "      <th>realtime_start</th>\n",
       "      <th>realtime_end</th>\n",
       "      <th>title</th>\n",
       "      <th>observation_start</th>\n",
       "      <th>observation_end</th>\n",
       "      <th>frequency</th>\n",
       "      <th>frequency_short</th>\n",
       "      <th>units</th>\n",
       "      <th>units_short</th>\n",
       "      <th>seasonal_adjustment</th>\n",
       "      <th>seasonal_adjustment_short</th>\n",
       "      <th>last_updated</th>\n",
       "      <th>popularity</th>\n",
       "      <th>group_popularity</th>\n",
       "      <th>notes</th>\n",
       "      <th>state</th>\n",
       "      <th>msa</th>\n",
       "    </tr>\n",
       "  </thead>\n",
       "  <tbody>\n",
       "    <tr>\n",
       "      <th>0</th>\n",
       "      <td>ANNI501PCPI</td>\n",
       "      <td>2021-12-04</td>\n",
       "      <td>2021-12-04</td>\n",
       "      <td>Per Capita Personal Income in Anniston-Oxford-...</td>\n",
       "      <td>1969-01-01</td>\n",
       "      <td>2020-01-01</td>\n",
       "      <td>Annual</td>\n",
       "      <td>A</td>\n",
       "      <td>Dollars</td>\n",
       "      <td>$</td>\n",
       "      <td>Not Seasonally Adjusted</td>\n",
       "      <td>NSA</td>\n",
       "      <td>2021-11-16 07:41:49-06</td>\n",
       "      <td>1.0</td>\n",
       "      <td>1.0</td>\n",
       "      <td>NaN</td>\n",
       "      <td>Alabama</td>\n",
       "      <td>Anniston-Oxford, AL</td>\n",
       "    </tr>\n",
       "    <tr>\n",
       "      <th>1</th>\n",
       "      <td>AUBU201PCPI</td>\n",
       "      <td>2021-12-04</td>\n",
       "      <td>2021-12-04</td>\n",
       "      <td>Per Capita Personal Income in Auburn-Opelika, ...</td>\n",
       "      <td>1969-01-01</td>\n",
       "      <td>2020-01-01</td>\n",
       "      <td>Annual</td>\n",
       "      <td>A</td>\n",
       "      <td>Dollars</td>\n",
       "      <td>$</td>\n",
       "      <td>Not Seasonally Adjusted</td>\n",
       "      <td>NSA</td>\n",
       "      <td>2021-11-16 07:41:48-06</td>\n",
       "      <td>1.0</td>\n",
       "      <td>1.0</td>\n",
       "      <td>NaN</td>\n",
       "      <td>Alabama</td>\n",
       "      <td>Auburn-Opelika, AL</td>\n",
       "    </tr>\n",
       "    <tr>\n",
       "      <th>2</th>\n",
       "      <td>BIRM801PCPI</td>\n",
       "      <td>2021-12-04</td>\n",
       "      <td>2021-12-04</td>\n",
       "      <td>Per Capita Personal Income in Birmingham-Hoove...</td>\n",
       "      <td>1969-01-01</td>\n",
       "      <td>2020-01-01</td>\n",
       "      <td>Annual</td>\n",
       "      <td>A</td>\n",
       "      <td>Dollars</td>\n",
       "      <td>$</td>\n",
       "      <td>Not Seasonally Adjusted</td>\n",
       "      <td>NSA</td>\n",
       "      <td>2021-11-16 07:38:17-06</td>\n",
       "      <td>7.0</td>\n",
       "      <td>7.0</td>\n",
       "      <td>NaN</td>\n",
       "      <td>Alabama</td>\n",
       "      <td>Birmingham-Hoover, AL</td>\n",
       "    </tr>\n",
       "    <tr>\n",
       "      <th>3</th>\n",
       "      <td>COLU913PCPI</td>\n",
       "      <td>2021-12-04</td>\n",
       "      <td>2021-12-04</td>\n",
       "      <td>Per Capita Personal Income in Columbus, GA-AL ...</td>\n",
       "      <td>1969-01-01</td>\n",
       "      <td>2020-01-01</td>\n",
       "      <td>Annual</td>\n",
       "      <td>A</td>\n",
       "      <td>Dollars</td>\n",
       "      <td>$</td>\n",
       "      <td>Not Seasonally Adjusted</td>\n",
       "      <td>NSA</td>\n",
       "      <td>2021-11-16 07:41:25-06</td>\n",
       "      <td>1.0</td>\n",
       "      <td>1.0</td>\n",
       "      <td>NaN</td>\n",
       "      <td>Alabama</td>\n",
       "      <td>Columbus, GA-AL</td>\n",
       "    </tr>\n",
       "    <tr>\n",
       "      <th>4</th>\n",
       "      <td>DFHF901PCPI</td>\n",
       "      <td>2021-12-04</td>\n",
       "      <td>2021-12-04</td>\n",
       "      <td>Per Capita Personal Income in Daphne-Fairhope-...</td>\n",
       "      <td>1969-01-01</td>\n",
       "      <td>2020-01-01</td>\n",
       "      <td>Annual</td>\n",
       "      <td>A</td>\n",
       "      <td>Dollars</td>\n",
       "      <td>$</td>\n",
       "      <td>Not Seasonally Adjusted</td>\n",
       "      <td>NSA</td>\n",
       "      <td>2021-11-16 07:41:23-06</td>\n",
       "      <td>1.0</td>\n",
       "      <td>1.0</td>\n",
       "      <td>NaN</td>\n",
       "      <td>Alabama</td>\n",
       "      <td>Daphne-Fairhope-Foley, AL</td>\n",
       "    </tr>\n",
       "  </tbody>\n",
       "</table>\n",
       "</div>"
      ],
      "text/plain": [
       "            id realtime_start realtime_end  \\\n",
       "0  ANNI501PCPI     2021-12-04   2021-12-04   \n",
       "1  AUBU201PCPI     2021-12-04   2021-12-04   \n",
       "2  BIRM801PCPI     2021-12-04   2021-12-04   \n",
       "3  COLU913PCPI     2021-12-04   2021-12-04   \n",
       "4  DFHF901PCPI     2021-12-04   2021-12-04   \n",
       "\n",
       "                                               title observation_start  \\\n",
       "0  Per Capita Personal Income in Anniston-Oxford-...        1969-01-01   \n",
       "1  Per Capita Personal Income in Auburn-Opelika, ...        1969-01-01   \n",
       "2  Per Capita Personal Income in Birmingham-Hoove...        1969-01-01   \n",
       "3  Per Capita Personal Income in Columbus, GA-AL ...        1969-01-01   \n",
       "4  Per Capita Personal Income in Daphne-Fairhope-...        1969-01-01   \n",
       "\n",
       "  observation_end frequency frequency_short    units units_short  \\\n",
       "0      2020-01-01    Annual               A  Dollars           $   \n",
       "1      2020-01-01    Annual               A  Dollars           $   \n",
       "2      2020-01-01    Annual               A  Dollars           $   \n",
       "3      2020-01-01    Annual               A  Dollars           $   \n",
       "4      2020-01-01    Annual               A  Dollars           $   \n",
       "\n",
       "       seasonal_adjustment seasonal_adjustment_short            last_updated  \\\n",
       "0  Not Seasonally Adjusted                       NSA  2021-11-16 07:41:49-06   \n",
       "1  Not Seasonally Adjusted                       NSA  2021-11-16 07:41:48-06   \n",
       "2  Not Seasonally Adjusted                       NSA  2021-11-16 07:38:17-06   \n",
       "3  Not Seasonally Adjusted                       NSA  2021-11-16 07:41:25-06   \n",
       "4  Not Seasonally Adjusted                       NSA  2021-11-16 07:41:23-06   \n",
       "\n",
       "   popularity  group_popularity notes    state                        msa  \n",
       "0         1.0               1.0   NaN  Alabama        Anniston-Oxford, AL  \n",
       "1         1.0               1.0   NaN  Alabama         Auburn-Opelika, AL  \n",
       "2         7.0               7.0   NaN  Alabama      Birmingham-Hoover, AL  \n",
       "3         1.0               1.0   NaN  Alabama            Columbus, GA-AL  \n",
       "4         1.0               1.0   NaN  Alabama  Daphne-Fairhope-Foley, AL  "
      ]
     },
     "execution_count": 6,
     "metadata": {},
     "output_type": "execute_result"
    }
   ],
   "source": [
    "income_series.head()"
   ]
  },
  {
   "cell_type": "code",
   "execution_count": 7,
   "id": "d0ba6fd4-ffa5-4bd3-8a56-d497b252e029",
   "metadata": {},
   "outputs": [],
   "source": [
    "def get_series(series_id, api_key):\n",
    "    \n",
    "    params = {\n",
    "        'api_key' : api_key,\n",
    "        'series_id' : series_id,\n",
    "        'file_type': 'json'\n",
    "    }\n",
    "    \n",
    "    endpoint = 'https://api.stlouisfed.org/fred/series/observations'\n",
    "    \n",
    "    response = requests.get(endpoint, params=params)\n",
    "    observations = pd.DataFrame(json.loads(response.text)['observations'])\n",
    "    \n",
    "    return observations\n",
    "    "
   ]
  },
  {
   "cell_type": "code",
   "execution_count": 8,
   "id": "e4ef18f6-228a-48fa-872d-aa35cd930f83",
   "metadata": {},
   "outputs": [
    {
     "data": {
      "text/plain": [
       "Index(['id', 'realtime_start', 'realtime_end', 'title', 'observation_start',\n",
       "       'observation_end', 'frequency', 'frequency_short', 'units',\n",
       "       'units_short', 'seasonal_adjustment', 'seasonal_adjustment_short',\n",
       "       'last_updated', 'popularity', 'group_popularity', 'notes', 'state',\n",
       "       'msa'],\n",
       "      dtype='object')"
      ]
     },
     "execution_count": 8,
     "metadata": {},
     "output_type": "execute_result"
    }
   ],
   "source": [
    "income_series.columns"
   ]
  },
  {
   "cell_type": "code",
   "execution_count": null,
   "id": "8cd994f3-0d82-46ef-b8d0-f350e27a4efb",
   "metadata": {},
   "outputs": [],
   "source": [
    "incomes = pd.DataFrame()\n",
    "for idx in range(len(income_series)):\n",
    "    series_df = get_series(income_series.id[idx], api_key)\n",
    "    series_df['state'] = income_series.state[idx]\n",
    "    series_df['msa'] = income_series.msa[idx]\n",
    "    incomes = incomes.append(series_df)\n",
    "    time.sleep(3)"
   ]
  },
  {
   "cell_type": "code",
   "execution_count": 9,
   "id": "8cb1f706-fead-4033-ab2d-a601a138de21",
   "metadata": {},
   "outputs": [
    {
     "ename": "NameError",
     "evalue": "name 'incomes' is not defined",
     "output_type": "error",
     "traceback": [
      "\u001b[1;31m---------------------------------------------------------------------------\u001b[0m",
      "\u001b[1;31mNameError\u001b[0m                                 Traceback (most recent call last)",
      "\u001b[1;32m<ipython-input-9-763e2d86c3b0>\u001b[0m in \u001b[0;36m<module>\u001b[1;34m\u001b[0m\n\u001b[1;32m----> 1\u001b[1;33m \u001b[0mincomes\u001b[0m\u001b[1;33m\u001b[0m\u001b[1;33m\u001b[0m\u001b[0m\n\u001b[0m",
      "\u001b[1;31mNameError\u001b[0m: name 'incomes' is not defined"
     ]
    }
   ],
   "source": [
    "incomes"
   ]
  },
  {
   "cell_type": "code",
   "execution_count": null,
   "id": "834da2cd-d398-468d-a8a2-e8331a02d436",
   "metadata": {},
   "outputs": [],
   "source": []
  }
 ],
 "metadata": {
  "kernelspec": {
   "display_name": "Python 3",
   "language": "python",
   "name": "python3"
  },
  "language_info": {
   "codemirror_mode": {
    "name": "ipython",
    "version": 3
   },
   "file_extension": ".py",
   "mimetype": "text/x-python",
   "name": "python",
   "nbconvert_exporter": "python",
   "pygments_lexer": "ipython3",
   "version": "3.8.8"
  }
 },
 "nbformat": 4,
 "nbformat_minor": 5
}
