{
 "cells": [
  {
   "cell_type": "code",
   "execution_count": 165,
   "id": "df11fb86-aeda-4728-bd20-d4646c1d77cd",
   "metadata": {},
   "outputs": [
    {
     "name": "stderr",
     "output_type": "stream",
     "text": [
      "<ipython-input-165-a6bb967f0ec0>:17: DeprecationWarning: The default dtype for empty Series will be 'object' instead of 'float64' in a future version. Specify a dtype explicitly to silence this warning.\n",
      "  states = fred_msa.extract_state(pd.Series(state_dict.keys()))\n"
     ]
    }
   ],
   "source": [
    "import pandas as pd\n",
    "import numpy as np\n",
    "import requests\n",
    "import json\n",
    "import os\n",
    "import time\n",
    "import fred_msa\n",
    "\n",
    "api_key = 'a37b50cd27afbc3ce23a81ddc5541dec'\n",
    "endpoint = 'https://api.stlouisfed.org/fred/series/categories'\n",
    "\n",
    "state_ids = fred_msa.get_state_ids(api_key)\n",
    "\n",
    "msa_ids = pd.DataFrame()\n",
    "for state, state_id in state_ids.items():\n",
    "    state_dict = fred_msa.get_msa_cats(api_key, state_id)\n",
    "    states = fred_msa.extract_state(pd.Series(state_dict.keys()))\n",
    "    state_df = pd.DataFrame({'msa' : list(state_dict.keys()), 'state' : states, 'ID' : list(state_dict.values())})\n",
    "    msa_ids = msa_ids.append(state_df)\n",
    "    time.sleep(3)\n",
    "\n",
    "msa_ids['city'] = fred_msa.split_city(msa_ids.msa)\n",
    "msa_ids = msa_ids[msa_ids.msa.str.contains('CMSA') == False]\n",
    "msa_ids = msa_ids.drop_duplicates(subset = ['city', 'state']).reset_index(drop = True)\n",
    "\n",
    "# #msas_to_use = pd.read_csv('..\\\\fred-data\\msas-to-use.csv', usecols=['city', 'state'])\n",
    "\n",
    "# #msas_to_use = pd.merge(msas_to_use, msa_ids,\n",
    "#          how='left', on=['city', 'state'], validate='one_to_one')\n",
    "\n",
    "# #series = pd.DataFrame()\n",
    "\n",
    "# for idx in range(len(msas_ids)):\n",
    "#     msa_series = fred_msa.get_msa_series_list(msas_ids.ID[idx], api_key)\n",
    "#     msa_series['msa'] = msas_ids.msa[idx]\n",
    "#     msa_series['city'] = msas_ids.city[idx]\n",
    "#     msa_series['state'] = msas_ids.state[idx]\n",
    "    \n",
    "#     series = series.append(msa_series).reset_index(drop=True)\n",
    "#     time.sleep(3)\n",
    "    \n",
    "\n",
    "# series.to_csv('..\\\\fred-data\\msa_series.csv', index=False)"
   ]
  },
  {
   "cell_type": "code",
   "execution_count": 168,
   "id": "408cb03a-0350-4eb8-9690-eaf0a3e040cb",
   "metadata": {},
   "outputs": [],
   "source": [
    "series = pd.DataFrame()\n",
    "\n",
    "for idx in range(len(msa_ids)):\n",
    "    msa_series = fred_msa.get_msa_series_list(msa_ids.ID[idx], api_key)\n",
    "    msa_series['msa'] = msa_ids.msa[idx]\n",
    "    msa_series['city'] = msa_ids.city[idx]\n",
    "    msa_series['state'] = msa_ids.state[idx]\n",
    "    \n",
    "    series = series.append(msa_series).reset_index(drop=True)\n",
    "    time.sleep(3)"
   ]
  },
  {
   "cell_type": "code",
   "execution_count": 170,
   "id": "c2061fb3-0873-45b3-a9ab-e9541db2fbdf",
   "metadata": {},
   "outputs": [],
   "source": [
    "keyword_list = ['Per Capita Personal Income', 'Resident Population', 'Unemployment Rate',\n",
    "                'New Private Housing Units Authorized by Building Permits',\n",
    "                'Regional Price Parities']\n",
    "\n",
    "ny = series.query(\"city == 'New York'\")\n",
    "ny_housing = ny.title[ny.title.str.contains('Housing Inventory')]\n",
    "\n",
    "housing_series = []\n",
    "for s in ny_housing:\n",
    "    if len(s.split(' in ')) > 2:\n",
    "        housing_series.append(s.split(' in ')[0] + ' in ' + s.split(' in ')[1])\n",
    "    else:\n",
    "        housing_series.append(s.split(' in ')[0])\n",
    "\n",
    "ny_employees = ny.title[ny.title.str.contains('All Employees')]\n",
    "\n",
    "employees_series = []\n",
    "for s in ny_employees:\n",
    "    if len(s.split(' in ')) > 2:\n",
    "        employees_series.append(s.split(' in ')[0] + ' in ' + s.split(' in ')[1])\n",
    "    else:\n",
    "        employees_series.append(s.split(' in ')[0])\n",
    "\n",
    "keyword_list = keyword_list + housing_series + employees_series"
   ]
  },
  {
   "cell_type": "code",
   "execution_count": 185,
   "id": "dd843f0f-40b1-471a-b728-1c4c6264e46b",
   "metadata": {},
   "outputs": [],
   "source": [
    "clean_titles = []\n",
    "\n",
    "for s in series.title:\n",
    "    if len(s.split(' in ')) > 2:\n",
    "        clean_titles.append(s.split(' in ')[0] + ' in ' + s.split(' in ')[1])\n",
    "    else:\n",
    "        clean_titles.append(s.split(' in ')[0])\n",
    "        \n",
    "series['clean_title'] = clean_titles"
   ]
  },
  {
   "cell_type": "code",
   "execution_count": 187,
   "id": "dd492334-5b3a-4785-a717-e44732c7f6b3",
   "metadata": {},
   "outputs": [],
   "source": [
    "series.to_csv('..\\\\fred-data\\\\all_msa_series.csv', index=False)"
   ]
  },
  {
   "cell_type": "code",
   "execution_count": 188,
   "id": "735dd145-7b02-4a56-af61-a8dca8bb51ab",
   "metadata": {},
   "outputs": [],
   "source": [
    "relevant_series = series[series.clean_title.isin(keyword_list)]"
   ]
  },
  {
   "cell_type": "code",
   "execution_count": 219,
   "id": "e47a7f4a-bea5-48e4-b321-bf996a4f1681",
   "metadata": {},
   "outputs": [],
   "source": [
    "all_relevant_series = relevant_series.drop_duplicates(['msa', 'clean_title'])\n",
    "num_series = pd.DataFrame(all_relevant_series.groupby(['city', 'state'])['clean_title'].count())"
   ]
  },
  {
   "cell_type": "code",
   "execution_count": 230,
   "id": "71782bba-d74c-404c-a5ed-abddde3df215",
   "metadata": {},
   "outputs": [],
   "source": [
    "num_by_cities = pd.DataFrame(all_relevant_series.groupby(['clean_title'])['msa'].count()).reset_index()"
   ]
  },
  {
   "cell_type": "code",
   "execution_count": 253,
   "id": "48332802-61a2-42e3-a6cf-6e3354d18f09",
   "metadata": {},
   "outputs": [
    {
     "data": {
      "text/plain": [
       "58"
      ]
     },
     "execution_count": 253,
     "metadata": {},
     "output_type": "execute_result"
    }
   ],
   "source": [
    "len(common_series_list)"
   ]
  },
  {
   "cell_type": "code",
   "execution_count": 248,
   "id": "1e913291-c21e-4192-b26b-1c24086422f9",
   "metadata": {},
   "outputs": [],
   "source": [
    "pd.set_option('display.max_rows', 100)\n",
    "\n",
    "num_by_cities.sort_values('msa', ascending=False).head(77)\n",
    "common_series_list = list(num_by_cities[num_by_cities['msa'] > 300]['clean_title'])"
   ]
  },
  {
   "cell_type": "code",
   "execution_count": 341,
   "id": "1298bfd6-dc23-4e95-8659-fe146866ca1e",
   "metadata": {},
   "outputs": [],
   "source": [
    "common_series = series[series.clean_title.isin(common_series_list)].reset_index(drop=True)\n",
    "\n",
    "all_common_series = common_series.drop_duplicates(['msa', 'clean_title']).reset_index(drop=True)\n",
    "num_common_series = pd.DataFrame(all_common_series.groupby(['msa'])['clean_title'].count())"
   ]
  },
  {
   "cell_type": "code",
   "execution_count": 345,
   "id": "b0850ad6-17b5-41a6-aa6b-53fed960f787",
   "metadata": {},
   "outputs": [],
   "source": [
    "all_common_cities = pd.DataFrame(num_common_series[num_common_series.clean_title == 58]).reset_index()"
   ]
  },
  {
   "cell_type": "code",
   "execution_count": 347,
   "id": "8c5ec6c9-9fac-466b-b7ab-8abee6774f18",
   "metadata": {},
   "outputs": [],
   "source": [
    "all_common_cities = list(all_common_cities['msa'])"
   ]
  },
  {
   "cell_type": "code",
   "execution_count": 285,
   "id": "850ad576-06bc-43f9-868a-0b8ea6e8dcb9",
   "metadata": {},
   "outputs": [],
   "source": [
    "full_msas = num_common_series[num_common_series.clean_title == 58]"
   ]
  },
  {
   "cell_type": "code",
   "execution_count": 287,
   "id": "9e33529a-a4f3-4bbd-8380-c31843ee2159",
   "metadata": {},
   "outputs": [],
   "source": [
    "common_series['freq-adj'] = [common_series.loc[idx]['frequency'] + ' - '+ common_series.loc[idx]['seasonal_adjustment'] for idx in range(len(common_series))]"
   ]
  },
  {
   "cell_type": "code",
   "execution_count": 303,
   "id": "77d89dd4-ed8c-44a0-8d68-f1de079e6f97",
   "metadata": {},
   "outputs": [],
   "source": [
    "freq_adj = pd.DataFrame(common_series.groupby(['clean_title'])['freq-adj'].unique()).reset_index()\n",
    "freq_adj['num'] = [len(freq_adj.loc[idx, 'freq-adj']) for idx in range(len(freq_adj))]"
   ]
  },
  {
   "cell_type": "code",
   "execution_count": 305,
   "id": "4b9a6221-c43c-43e7-beb9-faef4b914bda",
   "metadata": {},
   "outputs": [],
   "source": [
    "duplicates = freq_adj[freq_adj.num > 1]"
   ]
  },
  {
   "cell_type": "code",
   "execution_count": 325,
   "id": "fbd67e9a-d6ad-4939-90a5-6a84b1526444",
   "metadata": {},
   "outputs": [
    {
     "data": {
      "text/plain": [
       "0     True\n",
       "1     True\n",
       "2     True\n",
       "3     True\n",
       "4     True\n",
       "5     True\n",
       "6     True\n",
       "7     True\n",
       "8     True\n",
       "9     True\n",
       "10    True\n",
       "11    True\n",
       "12    True\n",
       "13    True\n",
       "14    True\n",
       "15    True\n",
       "16    True\n",
       "17    True\n",
       "18    True\n",
       "19    True\n",
       "20    True\n",
       "21    True\n",
       "22    True\n",
       "23    True\n",
       "24    True\n",
       "57    True\n",
       "Name: freq-adj, dtype: bool"
      ]
     },
     "execution_count": 325,
     "metadata": {},
     "output_type": "execute_result"
    }
   ],
   "source": [
    "duplicates['freq-adj'].astype('str').str.contains('Monthly - Seasonally Adjusted')\n",
    "#freq_adj[freq_adj.num == 1]['freq-adj'].astype('str').str.contains('Monthly - Seasonally Adjusted')"
   ]
  },
  {
   "cell_type": "code",
   "execution_count": 337,
   "id": "b5fcfdfc-3bf0-4dad-8182-a86099840fd8",
   "metadata": {},
   "outputs": [
    {
     "data": {
      "text/plain": [
       "['All Employees: Education and Health Services',\n",
       " 'All Employees: Federal Government',\n",
       " 'All Employees: Financial Activities',\n",
       " 'All Employees: Goods Producing',\n",
       " 'All Employees: Government',\n",
       " 'All Employees: Government: Federal Government',\n",
       " 'All Employees: Government: Local Government',\n",
       " 'All Employees: Government: State Government',\n",
       " 'All Employees: Information',\n",
       " 'All Employees: Leisure and Hospitality',\n",
       " 'All Employees: Local Government',\n",
       " 'All Employees: Manufacturing',\n",
       " 'All Employees: Mining, Logging, and Construction',\n",
       " 'All Employees: Other Services',\n",
       " 'All Employees: Private Service Providing',\n",
       " 'All Employees: Professional and Business Services',\n",
       " 'All Employees: Retail Trade',\n",
       " 'All Employees: Service-Providing',\n",
       " 'All Employees: State Government',\n",
       " 'All Employees: Total Nonfarm',\n",
       " 'All Employees: Total Private',\n",
       " 'All Employees: Trade, Transportation, and Utilities',\n",
       " 'Average Hourly Earnings of All Employees: Total Private',\n",
       " 'Average Weekly Earnings of All Employees: Total Private',\n",
       " 'Average Weekly Hours of All Employees: Total Private',\n",
       " 'Housing Inventory: Active Listing Count',\n",
       " 'Housing Inventory: Active Listing Count Month-Over-Month',\n",
       " 'Housing Inventory: Active Listing Count Year-Over-Year',\n",
       " 'Housing Inventory: Average Listing Price',\n",
       " 'Housing Inventory: Average Listing Price Month-Over-Month',\n",
       " 'Housing Inventory: Average Listing Price Year-Over-Year',\n",
       " 'Housing Inventory: Median Days on Market',\n",
       " 'Housing Inventory: Median Days on Market Month-Over-Month',\n",
       " 'Housing Inventory: Median Days on Market Year-Over-Year',\n",
       " 'Housing Inventory: Median Home Size in Square Feet',\n",
       " 'Housing Inventory: Median Home Size in Square Feet Month-Over-Month',\n",
       " 'Housing Inventory: Median Home Size in Square Feet Year-Over-Year',\n",
       " 'Housing Inventory: Median Listing Price',\n",
       " 'Housing Inventory: Median Listing Price Month-Over-Month',\n",
       " 'Housing Inventory: Median Listing Price Year-Over-Year',\n",
       " 'Housing Inventory: Median Listing Price per Square Feet',\n",
       " 'Housing Inventory: Median Listing Price per Square Feet Month-Over-Month',\n",
       " 'Housing Inventory: Median Listing Price per Square Feet Year-Over-Year',\n",
       " 'Housing Inventory: New Listing Count',\n",
       " 'Housing Inventory: New Listing Count Month-Over-Month',\n",
       " 'Housing Inventory: New Listing Count Year-Over-Year',\n",
       " 'Housing Inventory: Pending Listing Count',\n",
       " 'Housing Inventory: Pending Listing Count Month-Over-Month',\n",
       " 'Housing Inventory: Pending Listing Count Year-Over-Year',\n",
       " 'Housing Inventory: Price Increased Count',\n",
       " 'Housing Inventory: Price Increased Count Month-Over-Month',\n",
       " 'Housing Inventory: Price Increased Count Year-Over-Year',\n",
       " 'Housing Inventory: Price Reduced Count',\n",
       " 'Housing Inventory: Price Reduced Count Month-Over-Month',\n",
       " 'Housing Inventory: Price Reduced Count Year-Over-Year',\n",
       " 'Per Capita Personal Income',\n",
       " 'Resident Population',\n",
       " 'Unemployment Rate']"
      ]
     },
     "execution_count": 337,
     "metadata": {},
     "output_type": "execute_result"
    }
   ],
   "source": [
    "common_series_list"
   ]
  },
  {
   "cell_type": "code",
   "execution_count": 258,
   "id": "ef0a41d2-324a-4b79-8b39-ab2437a2603b",
   "metadata": {},
   "outputs": [],
   "source": [
    "monthly_series = common_series[(common_series.frequency == 'Monthly') & (common_series.seasonal_adjustment.str.contains('Not') == False)]"
   ]
  },
  {
   "cell_type": "code",
   "execution_count": 322,
   "id": "d47ee6ce-66e3-46ab-a25f-d85b85f0cd4a",
   "metadata": {},
   "outputs": [
    {
     "data": {
      "text/plain": [
       "26"
      ]
     },
     "execution_count": 322,
     "metadata": {},
     "output_type": "execute_result"
    }
   ],
   "source": [
    "#monthly_series_counts = \n",
    "monthly_series.groupby(['msa']).clean_title.count().max()"
   ]
  },
  {
   "cell_type": "code",
   "execution_count": 271,
   "id": "c09f6adf-5342-4028-b1c8-4aaf2fbaade5",
   "metadata": {},
   "outputs": [
    {
     "data": {
      "text/html": [
       "<div>\n",
       "<style scoped>\n",
       "    .dataframe tbody tr th:only-of-type {\n",
       "        vertical-align: middle;\n",
       "    }\n",
       "\n",
       "    .dataframe tbody tr th {\n",
       "        vertical-align: top;\n",
       "    }\n",
       "\n",
       "    .dataframe thead th {\n",
       "        text-align: right;\n",
       "    }\n",
       "</style>\n",
       "<table border=\"1\" class=\"dataframe\">\n",
       "  <thead>\n",
       "    <tr style=\"text-align: right;\">\n",
       "      <th></th>\n",
       "      <th>id</th>\n",
       "      <th>realtime_start</th>\n",
       "      <th>realtime_end</th>\n",
       "      <th>title</th>\n",
       "      <th>observation_start</th>\n",
       "      <th>observation_end</th>\n",
       "      <th>frequency</th>\n",
       "      <th>frequency_short</th>\n",
       "      <th>units</th>\n",
       "      <th>units_short</th>\n",
       "      <th>seasonal_adjustment</th>\n",
       "      <th>seasonal_adjustment_short</th>\n",
       "      <th>last_updated</th>\n",
       "      <th>popularity</th>\n",
       "      <th>group_popularity</th>\n",
       "      <th>notes</th>\n",
       "      <th>msa</th>\n",
       "      <th>city</th>\n",
       "      <th>state</th>\n",
       "      <th>clean_title</th>\n",
       "    </tr>\n",
       "  </thead>\n",
       "  <tbody>\n",
       "  </tbody>\n",
       "</table>\n",
       "</div>"
      ],
      "text/plain": [
       "Empty DataFrame\n",
       "Columns: [id, realtime_start, realtime_end, title, observation_start, observation_end, frequency, frequency_short, units, units_short, seasonal_adjustment, seasonal_adjustment_short, last_updated, popularity, group_popularity, notes, msa, city, state, clean_title]\n",
       "Index: []"
      ]
     },
     "execution_count": 271,
     "metadata": {},
     "output_type": "execute_result"
    }
   ],
   "source": [
    "monthly_series[monthly_series.title.str.contains('Housing')]"
   ]
  },
  {
   "cell_type": "code",
   "execution_count": 350,
   "id": "0c2a2f34-2610-4bb1-b7ed-a5760806c79e",
   "metadata": {},
   "outputs": [],
   "source": [
    "monthly_series = monthly_series.drop_duplicates(['msa', 'clean_title'])\n",
    "monthly_counts = pd.DataFrame(monthly_series.groupby(['msa'])['clean_title'].count()).reset_index()\n",
    "cities_with_most_monthly = list(monthly_counts[monthly_counts.clean_title >= 23]['msa'])"
   ]
  },
  {
   "cell_type": "code",
   "execution_count": 355,
   "id": "f6d1724f-20ad-4ad9-93a8-d83951dbf842",
   "metadata": {},
   "outputs": [],
   "source": [
    "cities_with_series = list(set(cities_with_most_monthly).intersection(set(all_common_cities)))"
   ]
  },
  {
   "cell_type": "code",
   "execution_count": 359,
   "id": "f754d63b-2a5b-4006-aa30-6a0889cb70ff",
   "metadata": {},
   "outputs": [],
   "source": [
    "cities_with_housing = relevant_series.query(\"clean_title == 'Housing Inventory: Median Listing Price'\")['msa'].unique()"
   ]
  },
  {
   "cell_type": "code",
   "execution_count": 362,
   "id": "78104dfc-cce8-47d8-a165-2ebf0cdf88a0",
   "metadata": {},
   "outputs": [],
   "source": [
    "cities_to_choose = list(set(cities_with_series).intersection(set(cities_with_housing)))"
   ]
  },
  {
   "cell_type": "code",
   "execution_count": 393,
   "id": "6ad9a0da-5f51-459c-83e7-990daae637e8",
   "metadata": {},
   "outputs": [],
   "source": [
    "pop_keys = series[series.title.str.contains('Population')].reset_index(drop=True)"
   ]
  },
  {
   "cell_type": "code",
   "execution_count": 405,
   "id": "cbe82cef-308f-4aa4-a67f-d550d93fbde6",
   "metadata": {},
   "outputs": [],
   "source": [
    "pops = pd.DataFrame()"
   ]
  },
  {
   "cell_type": "code",
   "execution_count": 406,
   "id": "fe6b5ee4-82a7-4d74-82a6-af15613c6cbc",
   "metadata": {},
   "outputs": [
    {
     "data": {
      "text/html": [
       "<div>\n",
       "<style scoped>\n",
       "    .dataframe tbody tr th:only-of-type {\n",
       "        vertical-align: middle;\n",
       "    }\n",
       "\n",
       "    .dataframe tbody tr th {\n",
       "        vertical-align: top;\n",
       "    }\n",
       "\n",
       "    .dataframe thead th {\n",
       "        text-align: right;\n",
       "    }\n",
       "</style>\n",
       "<table border=\"1\" class=\"dataframe\">\n",
       "  <thead>\n",
       "    <tr style=\"text-align: right;\">\n",
       "      <th></th>\n",
       "    </tr>\n",
       "  </thead>\n",
       "  <tbody>\n",
       "  </tbody>\n",
       "</table>\n",
       "</div>"
      ],
      "text/plain": [
       "Empty DataFrame\n",
       "Columns: []\n",
       "Index: []"
      ]
     },
     "execution_count": 406,
     "metadata": {},
     "output_type": "execute_result"
    }
   ],
   "source": [
    "pops"
   ]
  },
  {
   "cell_type": "code",
   "execution_count": 399,
   "id": "49110e19-1e0f-4228-aef9-3e5996dc4e3b",
   "metadata": {},
   "outputs": [],
   "source": [
    "pop_keys = pop_keys[pop_keys.msa.isin(cities_to_choose)].reset_index(drop=True)"
   ]
  },
  {
   "cell_type": "code",
   "execution_count": 375,
   "id": "7274d64a-7dd0-4e5c-ad04-f37e7745e05f",
   "metadata": {},
   "outputs": [],
   "source": [
    "loc1 = fred_msa.get_series(pop_keys.loc[0, 'id'], api_key)\n"
   ]
  },
  {
   "cell_type": "code",
   "execution_count": 407,
   "id": "7891ed1e-215e-4451-87f9-e3c00792e055",
   "metadata": {},
   "outputs": [],
   "source": [
    "for idx in range(len(pop_keys)):\n",
    "    pop_df = fred_msa.get_series(pop_keys.loc[idx, 'id'], api_key)\n",
    "    pop_value = float(pop_df.tail(1).value)\n",
    "    pops = pops.append(pd.DataFrame({'msa' : pop_keys.loc[idx, 'msa'],\n",
    "                                    'pop': pop_value}, index=[idx]))\n",
    "    time.sleep(3)"
   ]
  },
  {
   "cell_type": "code",
   "execution_count": 420,
   "id": "be9ecc15-d148-490d-8aca-c6699aa4a123",
   "metadata": {},
   "outputs": [],
   "source": [
    "pop_sorted = pops.sort_values('pop', ascending=False).reset_index(drop=True)"
   ]
  },
  {
   "cell_type": "code",
   "execution_count": 421,
   "id": "7f2fa350-e3c9-48a7-b6fb-ecfa61fba72a",
   "metadata": {},
   "outputs": [],
   "source": [
    "top5 = list(pop_sorted.head(5)['msa'])"
   ]
  },
  {
   "cell_type": "code",
   "execution_count": 424,
   "id": "d732df4a-3ced-468b-8b4c-3fc2e7f9377e",
   "metadata": {},
   "outputs": [],
   "source": [
    "the_rest = pop_sorted[5:].reset_index(drop=True)"
   ]
  },
  {
   "cell_type": "code",
   "execution_count": 432,
   "id": "6df1d861-d669-4688-931e-4eb1d55cade8",
   "metadata": {},
   "outputs": [],
   "source": [
    "import random"
   ]
  },
  {
   "cell_type": "code",
   "execution_count": 446,
   "id": "8a409c1d-913b-49dd-b46a-73c0286d9c16",
   "metadata": {},
   "outputs": [],
   "source": [
    "selected_cities = top5.copy()\n",
    "random.seed(500)\n",
    "for i in range(5):\n",
    "    start = int(np.floor((len(the_rest)/5)*i))\n",
    "    end = int(np.floor((len(the_rest)/5)*(i+1)) - 1)\n",
    "    idxs = random.sample(range(start, end), 5)\n",
    "    _ = [selected_cities.append(the_rest.loc[idx].msa) for idx in idxs]\n",
    "    "
   ]
  },
  {
   "cell_type": "code",
   "execution_count": 450,
   "id": "4f3e9e24-77c7-4a3b-a533-d69f9739c4cb",
   "metadata": {},
   "outputs": [],
   "source": [
    "pd.DataFrame({'msa' : selected_cities}).to_csv('..\\\\fred-data\\\\new-msas-to-use.csv')"
   ]
  },
  {
   "cell_type": "code",
   "execution_count": 459,
   "id": "60153e93-1238-4c63-8e2a-2e67e04f37e2",
   "metadata": {},
   "outputs": [],
   "source": [
    "new_series = series[(series.clean_title.isin(common_series_list)) & (series.msa.isin(selected_cities))]"
   ]
  },
  {
   "cell_type": "code",
   "execution_count": 462,
   "id": "7c2d2a1e-7503-4cdb-82e9-f6bf876e279e",
   "metadata": {},
   "outputs": [
    {
     "data": {
      "text/plain": [
       "['New York-Newark-Jersey City, NY-NJ-PA',\n",
       " 'Dallas-Fort Worth-Arlington, TX',\n",
       " 'Houston-The Woodlands-Sugar Land, TX',\n",
       " 'Philadelphia-Camden-Wilmington, PA-NJ-DE-MD',\n",
       " 'Atlanta-Sandy Springs-Alpharetta, GA',\n",
       " 'New Orleans-Metairie, LA',\n",
       " 'Birmingham-Hoover, AL',\n",
       " 'Tulsa, OK',\n",
       " 'Kansas City, MO-KS',\n",
       " 'Albuquerque, NM',\n",
       " 'Wichita, KS',\n",
       " 'Colorado Springs, CO',\n",
       " 'Oxnard-Thousand Oaks-Ventura, CA',\n",
       " 'Madison, WI',\n",
       " 'Lancaster, PA',\n",
       " 'York-Hanover, PA',\n",
       " 'Reno, NV',\n",
       " 'Reading, PA',\n",
       " 'Beaumont-Port Arthur, TX',\n",
       " 'Fort Wayne, IN',\n",
       " 'Topeka, KS',\n",
       " 'Lynchburg, VA',\n",
       " 'Olympia-Lacey-Tumwater, WA',\n",
       " 'Crestview-Fort Walton Beach-Destin, FL',\n",
       " 'Charleston, WV',\n",
       " 'Johnstown, PA',\n",
       " 'Grand Forks, ND-MN',\n",
       " 'Wichita Falls, TX',\n",
       " 'Morristown, TN',\n",
       " 'Panama City, FL']"
      ]
     },
     "execution_count": 462,
     "metadata": {},
     "output_type": "execute_result"
    }
   ],
   "source": [
    "selected_cities"
   ]
  },
  {
   "cell_type": "code",
   "execution_count": 463,
   "id": "4a5a283a-d351-45fd-96bd-3b0fffd16294",
   "metadata": {},
   "outputs": [],
   "source": [
    "pres_cities = ['New York-Newark-Jersey City, NY-NJ-PA', 'Atlanta-Sandy Springs-Alpharetta, GA', 'Topeka, KS', 'Tulsa, OK']"
   ]
  },
  {
   "cell_type": "code",
   "execution_count": 466,
   "id": "25c23f27-399b-4064-af7a-a687fe375a17",
   "metadata": {},
   "outputs": [],
   "source": [
    "pres_keywords = ['All Employees: Education and Health Services',\n",
    " 'All Employees: Federal Government',\n",
    " 'All Employees: Financial Activities',\n",
    " 'Housing Inventory: Median Days on Market',\n",
    " 'Housing Inventory: Median Home Size in Square Feet',\n",
    " 'Housing Inventory: Median Listing Price',\n",
    " 'Housing Inventory: New Listing Count',\n",
    " 'Per Capita Personal Income',\n",
    " 'Resident Population',\n",
    " 'Unemployment Rate']"
   ]
  },
  {
   "cell_type": "code",
   "execution_count": 470,
   "id": "139c95b4-cdeb-430a-9e5d-52ab65c86377",
   "metadata": {},
   "outputs": [],
   "source": [
    "pres_series = series[(series.clean_title.isin(pres_keywords)) & (series.msa.isin(pres_cities))]\n",
    "len(pres_series)\n",
    "pres_series.to_csv('..\\\\fred-data-pres\\\\pres-series.csv')"
   ]
  },
  {
   "cell_type": "code",
   "execution_count": null,
   "id": "2887e9bb-074e-472e-8fc9-c1ddb1a53aec",
   "metadata": {},
   "outputs": [],
   "source": []
  },
  {
   "cell_type": "code",
   "execution_count": null,
   "id": "a44f6c64-16f9-4450-b1f6-7948947fe9ca",
   "metadata": {},
   "outputs": [],
   "source": []
  },
  {
   "cell_type": "code",
   "execution_count": null,
   "id": "06b404fb-e109-4e69-819f-2dc44ca0c709",
   "metadata": {},
   "outputs": [],
   "source": []
  },
  {
   "cell_type": "code",
   "execution_count": 266,
   "id": "ef50ff1f-35eb-4e11-8ea5-72d51fbbb94c",
   "metadata": {},
   "outputs": [],
   "source": [
    "monthly_list = list(monthly_series.clean_title.unique())"
   ]
  },
  {
   "cell_type": "code",
   "execution_count": 267,
   "id": "cccf23be-74f4-426f-bb18-3392e3d4e7c5",
   "metadata": {},
   "outputs": [
    {
     "data": {
      "text/plain": [
       "['All Employees: Education and Health Services',\n",
       " 'All Employees: Financial Activities',\n",
       " 'All Employees: Government',\n",
       " 'All Employees: Information',\n",
       " 'All Employees: Leisure and Hospitality',\n",
       " 'All Employees: Manufacturing',\n",
       " 'All Employees: Total Nonfarm',\n",
       " 'All Employees: Professional and Business Services',\n",
       " 'All Employees: Other Services',\n",
       " 'All Employees: Trade, Transportation, and Utilities',\n",
       " 'Unemployment Rate',\n",
       " 'All Employees: Total Private',\n",
       " 'Average Weekly Hours of All Employees: Total Private',\n",
       " 'Average Hourly Earnings of All Employees: Total Private',\n",
       " 'Average Weekly Earnings of All Employees: Total Private',\n",
       " 'All Employees: Goods Producing',\n",
       " 'All Employees: Service-Providing',\n",
       " 'All Employees: Private Service Providing',\n",
       " 'All Employees: Mining, Logging, and Construction',\n",
       " 'All Employees: Retail Trade',\n",
       " 'All Employees: Government: Federal Government',\n",
       " 'All Employees: Government: State Government',\n",
       " 'All Employees: Government: Local Government',\n",
       " 'All Employees: Federal Government',\n",
       " 'All Employees: State Government',\n",
       " 'All Employees: Local Government']"
      ]
     },
     "execution_count": 267,
     "metadata": {},
     "output_type": "execute_result"
    }
   ],
   "source": [
    "monthly_list"
   ]
  },
  {
   "cell_type": "code",
   "execution_count": 204,
   "id": "e2c6ae4a-b3c0-4c60-9501-673507527fee",
   "metadata": {},
   "outputs": [
    {
     "data": {
      "text/html": [
       "<div>\n",
       "<style scoped>\n",
       "    .dataframe tbody tr th:only-of-type {\n",
       "        vertical-align: middle;\n",
       "    }\n",
       "\n",
       "    .dataframe tbody tr th {\n",
       "        vertical-align: top;\n",
       "    }\n",
       "\n",
       "    .dataframe thead th {\n",
       "        text-align: right;\n",
       "    }\n",
       "</style>\n",
       "<table border=\"1\" class=\"dataframe\">\n",
       "  <thead>\n",
       "    <tr style=\"text-align: right;\">\n",
       "      <th></th>\n",
       "      <th>id</th>\n",
       "      <th>realtime_start</th>\n",
       "      <th>realtime_end</th>\n",
       "      <th>title</th>\n",
       "      <th>observation_start</th>\n",
       "      <th>observation_end</th>\n",
       "      <th>frequency</th>\n",
       "      <th>frequency_short</th>\n",
       "      <th>units</th>\n",
       "      <th>units_short</th>\n",
       "      <th>seasonal_adjustment</th>\n",
       "      <th>seasonal_adjustment_short</th>\n",
       "      <th>last_updated</th>\n",
       "      <th>popularity</th>\n",
       "      <th>group_popularity</th>\n",
       "      <th>notes</th>\n",
       "      <th>msa</th>\n",
       "      <th>city</th>\n",
       "      <th>state</th>\n",
       "      <th>clean_title</th>\n",
       "    </tr>\n",
       "  </thead>\n",
       "  <tbody>\n",
       "    <tr>\n",
       "      <th>3</th>\n",
       "      <td>ANNI501EDUH</td>\n",
       "      <td>2021-12-08</td>\n",
       "      <td>2021-12-08</td>\n",
       "      <td>All Employees: Education and Health Services i...</td>\n",
       "      <td>1990-01-01</td>\n",
       "      <td>2021-10-01</td>\n",
       "      <td>Monthly</td>\n",
       "      <td>M</td>\n",
       "      <td>Thousands of Persons</td>\n",
       "      <td>Thous. of Persons</td>\n",
       "      <td>Seasonally Adjusted</td>\n",
       "      <td>SA</td>\n",
       "      <td>2021-11-19 16:57:20-06</td>\n",
       "      <td>1.0</td>\n",
       "      <td>1.0</td>\n",
       "      <td>The Federal Reserve Bank of St. Louis seasonal...</td>\n",
       "      <td>Anniston-Oxford, AL</td>\n",
       "      <td>Anniston</td>\n",
       "      <td>AL</td>\n",
       "      <td>All Employees: Education and Health Services</td>\n",
       "    </tr>\n",
       "    <tr>\n",
       "      <th>5</th>\n",
       "      <td>ANNI501FIRE</td>\n",
       "      <td>2021-12-08</td>\n",
       "      <td>2021-12-08</td>\n",
       "      <td>All Employees: Financial Activities in Annisto...</td>\n",
       "      <td>1990-01-01</td>\n",
       "      <td>2021-10-01</td>\n",
       "      <td>Monthly</td>\n",
       "      <td>M</td>\n",
       "      <td>Thousands of Persons</td>\n",
       "      <td>Thous. of Persons</td>\n",
       "      <td>Seasonally Adjusted</td>\n",
       "      <td>SA</td>\n",
       "      <td>2021-11-19 16:57:19-06</td>\n",
       "      <td>1.0</td>\n",
       "      <td>1.0</td>\n",
       "      <td>The Federal Reserve Bank of St. Louis seasonal...</td>\n",
       "      <td>Anniston-Oxford, AL</td>\n",
       "      <td>Anniston</td>\n",
       "      <td>AL</td>\n",
       "      <td>All Employees: Financial Activities</td>\n",
       "    </tr>\n",
       "    <tr>\n",
       "      <th>7</th>\n",
       "      <td>ANNI501GOVT</td>\n",
       "      <td>2021-12-08</td>\n",
       "      <td>2021-12-08</td>\n",
       "      <td>All Employees: Government in Anniston-Oxford-J...</td>\n",
       "      <td>1990-01-01</td>\n",
       "      <td>2021-10-01</td>\n",
       "      <td>Monthly</td>\n",
       "      <td>M</td>\n",
       "      <td>Thousands of Persons</td>\n",
       "      <td>Thous. of Persons</td>\n",
       "      <td>Seasonally Adjusted</td>\n",
       "      <td>SA</td>\n",
       "      <td>2021-11-19 16:57:19-06</td>\n",
       "      <td>1.0</td>\n",
       "      <td>1.0</td>\n",
       "      <td>The Federal Reserve Bank of St. Louis seasonal...</td>\n",
       "      <td>Anniston-Oxford, AL</td>\n",
       "      <td>Anniston</td>\n",
       "      <td>AL</td>\n",
       "      <td>All Employees: Government</td>\n",
       "    </tr>\n",
       "    <tr>\n",
       "      <th>9</th>\n",
       "      <td>ANNI501INFO</td>\n",
       "      <td>2021-12-08</td>\n",
       "      <td>2021-12-08</td>\n",
       "      <td>All Employees: Information in Anniston-Oxford-...</td>\n",
       "      <td>1990-01-01</td>\n",
       "      <td>2021-10-01</td>\n",
       "      <td>Monthly</td>\n",
       "      <td>M</td>\n",
       "      <td>Thousands of Persons</td>\n",
       "      <td>Thous. of Persons</td>\n",
       "      <td>Seasonally Adjusted</td>\n",
       "      <td>SA</td>\n",
       "      <td>2021-11-19 16:57:21-06</td>\n",
       "      <td>1.0</td>\n",
       "      <td>1.0</td>\n",
       "      <td>The Federal Reserve Bank of St. Louis seasonal...</td>\n",
       "      <td>Anniston-Oxford, AL</td>\n",
       "      <td>Anniston</td>\n",
       "      <td>AL</td>\n",
       "      <td>All Employees: Information</td>\n",
       "    </tr>\n",
       "    <tr>\n",
       "      <th>11</th>\n",
       "      <td>ANNI501LEIH</td>\n",
       "      <td>2021-12-08</td>\n",
       "      <td>2021-12-08</td>\n",
       "      <td>All Employees: Leisure and Hospitality in Anni...</td>\n",
       "      <td>1990-01-01</td>\n",
       "      <td>2021-10-01</td>\n",
       "      <td>Monthly</td>\n",
       "      <td>M</td>\n",
       "      <td>Thousands of Persons</td>\n",
       "      <td>Thous. of Persons</td>\n",
       "      <td>Seasonally Adjusted</td>\n",
       "      <td>SA</td>\n",
       "      <td>2021-11-19 16:57:19-06</td>\n",
       "      <td>1.0</td>\n",
       "      <td>1.0</td>\n",
       "      <td>The Federal Reserve Bank of St. Louis seasonal...</td>\n",
       "      <td>Anniston-Oxford, AL</td>\n",
       "      <td>Anniston</td>\n",
       "      <td>AL</td>\n",
       "      <td>All Employees: Leisure and Hospitality</td>\n",
       "    </tr>\n",
       "  </tbody>\n",
       "</table>\n",
       "</div>"
      ],
      "text/plain": [
       "             id realtime_start realtime_end  \\\n",
       "3   ANNI501EDUH     2021-12-08   2021-12-08   \n",
       "5   ANNI501FIRE     2021-12-08   2021-12-08   \n",
       "7   ANNI501GOVT     2021-12-08   2021-12-08   \n",
       "9   ANNI501INFO     2021-12-08   2021-12-08   \n",
       "11  ANNI501LEIH     2021-12-08   2021-12-08   \n",
       "\n",
       "                                                title observation_start  \\\n",
       "3   All Employees: Education and Health Services i...        1990-01-01   \n",
       "5   All Employees: Financial Activities in Annisto...        1990-01-01   \n",
       "7   All Employees: Government in Anniston-Oxford-J...        1990-01-01   \n",
       "9   All Employees: Information in Anniston-Oxford-...        1990-01-01   \n",
       "11  All Employees: Leisure and Hospitality in Anni...        1990-01-01   \n",
       "\n",
       "   observation_end frequency frequency_short                 units  \\\n",
       "3       2021-10-01   Monthly               M  Thousands of Persons   \n",
       "5       2021-10-01   Monthly               M  Thousands of Persons   \n",
       "7       2021-10-01   Monthly               M  Thousands of Persons   \n",
       "9       2021-10-01   Monthly               M  Thousands of Persons   \n",
       "11      2021-10-01   Monthly               M  Thousands of Persons   \n",
       "\n",
       "          units_short  seasonal_adjustment seasonal_adjustment_short  \\\n",
       "3   Thous. of Persons  Seasonally Adjusted                        SA   \n",
       "5   Thous. of Persons  Seasonally Adjusted                        SA   \n",
       "7   Thous. of Persons  Seasonally Adjusted                        SA   \n",
       "9   Thous. of Persons  Seasonally Adjusted                        SA   \n",
       "11  Thous. of Persons  Seasonally Adjusted                        SA   \n",
       "\n",
       "              last_updated  popularity  group_popularity  \\\n",
       "3   2021-11-19 16:57:20-06         1.0               1.0   \n",
       "5   2021-11-19 16:57:19-06         1.0               1.0   \n",
       "7   2021-11-19 16:57:19-06         1.0               1.0   \n",
       "9   2021-11-19 16:57:21-06         1.0               1.0   \n",
       "11  2021-11-19 16:57:19-06         1.0               1.0   \n",
       "\n",
       "                                                notes                  msa  \\\n",
       "3   The Federal Reserve Bank of St. Louis seasonal...  Anniston-Oxford, AL   \n",
       "5   The Federal Reserve Bank of St. Louis seasonal...  Anniston-Oxford, AL   \n",
       "7   The Federal Reserve Bank of St. Louis seasonal...  Anniston-Oxford, AL   \n",
       "9   The Federal Reserve Bank of St. Louis seasonal...  Anniston-Oxford, AL   \n",
       "11  The Federal Reserve Bank of St. Louis seasonal...  Anniston-Oxford, AL   \n",
       "\n",
       "        city state                                   clean_title  \n",
       "3   Anniston    AL  All Employees: Education and Health Services  \n",
       "5   Anniston    AL           All Employees: Financial Activities  \n",
       "7   Anniston    AL                     All Employees: Government  \n",
       "9   Anniston    AL                    All Employees: Information  \n",
       "11  Anniston    AL        All Employees: Leisure and Hospitality  "
      ]
     },
     "execution_count": 204,
     "metadata": {},
     "output_type": "execute_result"
    }
   ],
   "source": [
    "monthly_series.head()"
   ]
  },
  {
   "cell_type": "code",
   "execution_count": 212,
   "id": "78e29b96-bf76-472e-a1fa-243bf4454d8c",
   "metadata": {},
   "outputs": [
    {
     "data": {
      "text/plain": [
       "45"
      ]
     },
     "execution_count": 212,
     "metadata": {},
     "output_type": "execute_result"
    }
   ],
   "source": [
    "len(monthly_series.clean_title.unique())"
   ]
  },
  {
   "cell_type": "code",
   "execution_count": 154,
   "id": "10a65bd1-9100-49f4-a53b-af5c2badeded",
   "metadata": {},
   "outputs": [],
   "source": [
    "ny = series.query(\"city == 'New York'\")\n",
    "ny_housing = ny.title[ny.title.str.contains('Housing Inventory')]\n",
    "housing_series = [s.split(' in')[0] for s in ny_housing]"
   ]
  },
  {
   "cell_type": "code",
   "execution_count": 158,
   "id": "a046d457-56ee-477b-97ee-62ebdc17f9ba",
   "metadata": {},
   "outputs": [
    {
     "data": {
      "text/plain": [
       "['Housing Inventory: Active Listing Count',\n",
       " 'Housing Inventory: Active Listing Count Month-Over-Month',\n",
       " 'Housing Inventory: Active Listing Count Year-Over-Year',\n",
       " 'Housing Inventory: Average Listing Price',\n",
       " 'Housing Inventory: Average Listing Price Month-Over-Month',\n",
       " 'Housing Inventory: Average Listing Price Year-Over-Year',\n",
       " 'Housing Inventory: Median Days on Market',\n",
       " 'Housing Inventory: Median Days on Market Month-Over-Month',\n",
       " 'Housing Inventory: Median Days on Market Year-Over-Year',\n",
       " 'Housing Inventory: Median Listing Price',\n",
       " 'Housing Inventory: Median Listing Price Month-Over-Month',\n",
       " 'Housing Inventory: Median Listing Price per Square Feet',\n",
       " 'Housing Inventory: Median Listing Price per Square Feet Month-Over-Month',\n",
       " 'Housing Inventory: Median Listing Price per Square Feet Year-Over-Year',\n",
       " 'Housing Inventory: Median Listing Price Year-Over-Year',\n",
       " 'Housing Inventory: Median Home Size',\n",
       " 'Housing Inventory: Median Home Size',\n",
       " 'Housing Inventory: Median Home Size',\n",
       " 'Housing Inventory: New Listing Count',\n",
       " 'Housing Inventory: New Listing Count Month-Over-Month',\n",
       " 'Housing Inventory: New Listing Count Year-Over-Year',\n",
       " 'Housing Inventory: Pending Listing Count',\n",
       " 'Housing Inventory: Pending Listing Count Month-Over-Month',\n",
       " 'Housing Inventory: Pending Listing Count Year-Over-Year',\n",
       " 'Housing Inventory: Price Increased Count',\n",
       " 'Housing Inventory: Price Increased Count Month-Over-Month',\n",
       " 'Housing Inventory: Price Increased Count Year-Over-Year',\n",
       " 'Housing Inventory: Price Reduced Count',\n",
       " 'Housing Inventory: Price Reduced Count Month-Over-Month',\n",
       " 'Housing Inventory: Price Reduced Count Year-Over-Year']"
      ]
     },
     "execution_count": 158,
     "metadata": {},
     "output_type": "execute_result"
    }
   ],
   "source": [
    "housing_series"
   ]
  },
  {
   "cell_type": "code",
   "execution_count": 163,
   "id": "5b521e74-7b7f-4bbb-b5c3-adfb1b5657a7",
   "metadata": {},
   "outputs": [
    {
     "data": {
      "text/plain": [
       "['All Employees: Accommodation and Food Services',\n",
       " 'All Employees: Administrative and Support and Waste Management and Remediation Services',\n",
       " 'All Employees: Education and Health Services',\n",
       " 'All Employees: Education and Health Services: Health Care and Social Assistance',\n",
       " 'All Employees: Federal Government',\n",
       " 'All Employees: Financial Activities',\n",
       " 'All Employees: Financial Activities: Finance and Insurance',\n",
       " 'All Employees: Financial Activities: Insurance Carriers and Related Activities',\n",
       " 'All Employees: Goods Producing',\n",
       " 'All Employees: Government',\n",
       " 'All Employees: Government: Federal Government',\n",
       " 'All Employees: Government: Local Government',\n",
       " 'All Employees: Government: State Government',\n",
       " 'All Employees: Health Care and Social Assistance',\n",
       " 'All Employees: Health Care: Ambulatory Health Care Services',\n",
       " 'All Employees: Health Care: Hospitals',\n",
       " 'All Employees: Information',\n",
       " 'All Employees: Information: Telecommunications',\n",
       " 'All Employees: Leisure and Hospitality',\n",
       " 'All Employees: Local Government',\n",
       " 'All Employees: Management of Companies and Enterprises',\n",
       " 'All Employees: Manufacturing',\n",
       " 'All Employees: Mining, Logging, and Construction',\n",
       " 'All Employees: Mining, Logging, and Construction: Specialty Trade Contractors',\n",
       " 'All Employees: Other Services',\n",
       " 'All Employees: Private Service Providing',\n",
       " 'All Employees: Professional and Business Services',\n",
       " 'All Employees: Professional, Scientific, and Technical Services',\n",
       " 'All Employees: Retail Trade',\n",
       " 'All Employees: Retail Trade: Department Stores',\n",
       " 'All Employees: Retail Trade: Food and Beverage Stores',\n",
       " 'All Employees: Retail Trade: General Merchandise Stores',\n",
       " 'All Employees: Service-Providing',\n",
       " 'All Employees: State Government',\n",
       " 'All Employees: Total Nonfarm',\n",
       " 'All Employees: Total Private',\n",
       " 'All Employees: Trade, Transportation, and Utilities',\n",
       " 'All Employees: Transportation and Utilities: Transportation, Warehousing, and Utilities',\n",
       " 'All Employees: Transportation and Warehousing',\n",
       " 'All Employees: Wholesale Trade',\n",
       " 'All Employees: Wholesale Trade: Merchant Wholesalers, Durable Goods',\n",
       " 'Average Hourly Earnings of All Employees: Total Private',\n",
       " 'Average Weekly Earnings of All Employees: Total Private',\n",
       " 'Average Weekly Hours of All Employees: Total Private']"
      ]
     },
     "execution_count": 163,
     "metadata": {},
     "output_type": "execute_result"
    }
   ],
   "source": [
    "ny_employees = ny.title[ny.title.str.contains('All Employees')]\n",
    "employees_series = list(np.unique([s.split(' in')[0] for s in ny_employees]))\n",
    "employees_series"
   ]
  },
  {
   "cell_type": "code",
   "execution_count": 164,
   "id": "128a812e-c778-48dd-b391-2e30af579bd4",
   "metadata": {},
   "outputs": [
    {
     "data": {
      "text/plain": [
       "{'Alabama': 27282,\n",
       " 'Alaska': 27283,\n",
       " 'Arizona': 27284,\n",
       " 'Arkansas': 149,\n",
       " 'California': 27286,\n",
       " 'Colorado': 27287,\n",
       " 'Connecticut': 27288,\n",
       " 'Delaware': 27289,\n",
       " 'District of Columbia': 27290,\n",
       " 'Florida': 27291,\n",
       " 'Georgia': 27292,\n",
       " 'Hawaii': 27293,\n",
       " 'Idaho': 27294,\n",
       " 'Illinois': 150,\n",
       " 'Indiana': 151,\n",
       " 'Iowa': 27297,\n",
       " 'Kansas': 27298,\n",
       " 'Kentucky': 152,\n",
       " 'Louisiana': 27300,\n",
       " 'Maine': 27301,\n",
       " 'Maryland': 27302,\n",
       " 'Massachusetts': 27303,\n",
       " 'Michigan': 27304,\n",
       " 'Minnesota': 27305,\n",
       " 'Mississippi': 153,\n",
       " 'Missouri': 154,\n",
       " 'Montana': 27308,\n",
       " 'Nebraska': 27309,\n",
       " 'Nevada': 27310,\n",
       " 'New Hampshire': 27311,\n",
       " 'New Jersey': 27312,\n",
       " 'New Mexico': 27313,\n",
       " 'New York': 27314,\n",
       " 'North Carolina': 27315,\n",
       " 'North Dakota': 27316,\n",
       " 'Ohio': 27317,\n",
       " 'Oklahoma': 27318,\n",
       " 'Oregon': 27319,\n",
       " 'Pennsylvania': 27320,\n",
       " 'Puerto Rico': 33504,\n",
       " 'Rhode Island': 27322,\n",
       " 'South Carolina': 27323,\n",
       " 'South Dakota': 27324,\n",
       " 'Tennessee': 193,\n",
       " 'Texas': 27326,\n",
       " 'Utah': 27328,\n",
       " 'Vermont': 27329,\n",
       " 'Virgin Islands': 33605,\n",
       " 'Virginia': 27330,\n",
       " 'West Virginia': 27332,\n",
       " 'Washington': 27331,\n",
       " 'Wisconsin': 27333,\n",
       " 'Wyoming': 27334}"
      ]
     },
     "execution_count": 164,
     "metadata": {},
     "output_type": "execute_result"
    }
   ],
   "source": [
    "state_ids"
   ]
  },
  {
   "cell_type": "code",
   "execution_count": null,
   "id": "a5781ee4-523f-41a7-98c8-603daab46f9c",
   "metadata": {},
   "outputs": [],
   "source": []
  }
 ],
 "metadata": {
  "kernelspec": {
   "display_name": "Python 3",
   "language": "python",
   "name": "python3"
  },
  "language_info": {
   "codemirror_mode": {
    "name": "ipython",
    "version": 3
   },
   "file_extension": ".py",
   "mimetype": "text/x-python",
   "name": "python",
   "nbconvert_exporter": "python",
   "pygments_lexer": "ipython3",
   "version": "3.8.8"
  }
 },
 "nbformat": 4,
 "nbformat_minor": 5
}
